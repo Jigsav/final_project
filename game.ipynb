{
 "cells": [
  {
   "cell_type": "markdown",
   "metadata": {},
   "source": [
    "# Игра угадай число"
   ]
  },
  {
   "cell_type": "markdown",
   "metadata": {},
   "source": [
    "Нужно написать программу, которая угадывает число за минимальное число попыток."
   ]
  },
  {
   "cell_type": "markdown",
   "metadata": {},
   "source": [
    "### Условие задания:"
   ]
  },
  {
   "cell_type": "markdown",
   "metadata": {},
   "source": [
    "- Компьютер загадывает целое число от 1 до 100, и нам его нужно угадать. Под «угадать» подразумевается «написать программу, которая угадывает число».\n",
    "- Алгоритм учитывает информацию о том, больше ли или меньше случайное число нужного нам числа."
   ]
  },
  {
   "cell_type": "code",
   "execution_count": null,
   "metadata": {},
   "outputs": [],
   "source": [
    "import numpy as np\n",
    "\n",
    "number = np.random.randint(1, 101) # загадываем число\n",
    "\n",
    "# количество попыток\n",
    "count = 0\n",
    "\n",
    "while True:\n",
    "    count+=1\n",
    "    predict_number = int(input(\"Угадай число от 1 до 100: \"))\n",
    "    \n",
    "    if predict_number > number:\n",
    "        print(\"Число должно быть меньше!\")\n",
    "\n",
    "    elif predict_number < number:\n",
    "        print(\"Число должно быть больше!\")\n",
    "    \n",
    "    else:\n",
    "        print(f\"Вы угадали число! Это число = {number}, за {count} попыток\")\n",
    "        break #конец игры выход из цикла"
   ]
  },
  {
   "cell_type": "markdown",
   "metadata": {},
   "source": [
    "Угадай число от 1 до 100: 50\n",
    "<br>Число должно быть меньше!\n",
    "<br>Угадай число от 1 до 100: 25\n",
    "<br>Число должно быть меньше!\n",
    "<br>Угадай число от 1 до 100: 12\n",
    "<br>Число должно быть больше!\n",
    "<br>Угадай число от 1 до 100: 19\n",
    "<br>Число должно быть меньше!\n",
    "<br>Угадай число от 1 до 100: 18\n",
    "<br>Число должно быть меньше!\n",
    "<br>Угадай число от 1 до 100: 15\n",
    "<br>Число должно быть меньше!\n",
    "<br>Угадай число от 1 до 100: 13\n",
    "<br> **Вы угадали число! Это число = 13, за 7 попыток**"
   ]
  },
  {
   "cell_type": "markdown",
   "metadata": {},
   "source": [
    "Импортируем библиотеку, которая нам пригодится для генерации случайных чисел:"
   ]
  },
  {
   "cell_type": "code",
   "execution_count": null,
   "metadata": {},
   "outputs": [],
   "source": [
    "import numpy as np\n",
    "from numpy import random"
   ]
  },
  {
   "cell_type": "markdown",
   "metadata": {},
   "source": [
    "Пишем программу для автоматического поиска загаданного числа:"
   ]
  },
  {
   "cell_type": "code",
   "execution_count": 11,
   "metadata": {},
   "outputs": [
    {
     "data": {
      "text/plain": [
       "30"
      ]
     },
     "execution_count": 11,
     "metadata": {},
     "output_type": "execute_result"
    }
   ],
   "source": [
    "def random_predict(number: int = 1) -> int:\n",
    "    \"\"\"Рандомно угадываем число\n",
    "\n",
    "    Args:\n",
    "        number (int, optional): Загаданное число. Defaults to 1.\n",
    "\n",
    "    Returns:\n",
    "        int: Число попыток\n",
    "    \"\"\"\n",
    "    count = 0 # Счетчик кол-ва попыток\n",
    "    \n",
    "\n",
    "    while True:\n",
    "        count += 1\n",
    "        predict_number = np.random.randint(1,101)  # предполагаемое число\n",
    "        if number == predict_number:\n",
    "            break  # выход из цикла если угадали\n",
    "    return count\n",
    "\n",
    "random_predict(7)"
   ]
  },
  {
   "cell_type": "markdown",
   "metadata": {},
   "source": [
    "Переделываем функцию которая каждый раз в 2 раза сокращает область поиска, и приводит к сокращению количества попыток."
   ]
  },
  {
   "cell_type": "code",
   "execution_count": 18,
   "metadata": {},
   "outputs": [
    {
     "data": {
      "text/plain": [
       "7"
      ]
     },
     "execution_count": 18,
     "metadata": {},
     "output_type": "execute_result"
    }
   ],
   "source": [
    "def random_predict(number: int = 1) -> int:\n",
    "    \"\"\"Рандомно угадываем число\n",
    "\n",
    "    Args:\n",
    "        number (int, optional): Загаданное число. Defaults to 1.\n",
    "\n",
    "    Returns:\n",
    "        int: Число попыток\n",
    "    \"\"\"\n",
    "    count = 0 # Счетчик кол-ва попыток\n",
    "    min_number = 0 # Минимальное число\n",
    "    max_number = 100 # Максимальное число\n",
    "\n",
    "    while True:\n",
    "        count += 1\n",
    "        #predict_number = np.random.randint(min_number, max_number)  # предполагаемое число\n",
    "        predict_number = round((min_number + max_number)/2) # предполагаемое число, в 2 раза сокращаем лбласть поиска.\n",
    "        if number == predict_number:\n",
    "            break  # выход из цикла если угадали\n",
    "        elif predict_number < number: \n",
    "            min_number = predict_number\n",
    "        elif predict_number > number:\n",
    "            max_number = predict_number\n",
    "    return count\n",
    "\n",
    "random_predict(7)"
   ]
  },
  {
   "cell_type": "markdown",
   "metadata": {},
   "source": [
    "### Функция для оценки"
   ]
  },
  {
   "cell_type": "markdown",
   "metadata": {},
   "source": [
    "Эта функция необходима, чтобы определить, за какое число попыток программа угадывает наше число."
   ]
  },
  {
   "cell_type": "code",
   "execution_count": 20,
   "metadata": {},
   "outputs": [
    {
     "name": "stdout",
     "output_type": "stream",
     "text": [
      "Ваш алгоритм угадывает число в среднем за:5 попыток\n"
     ]
    },
    {
     "data": {
      "text/plain": [
       "5"
      ]
     },
     "execution_count": 20,
     "metadata": {},
     "output_type": "execute_result"
    }
   ],
   "source": [
    "def score_game(random_predict) -> int:\n",
    "    \"\"\"За какое количство попыток в среднем за 1000 подходов угадывает наш алгоритм\n",
    "\n",
    "    Args:\n",
    "        random_predict ([type]): функция угадывания\n",
    "\n",
    "    Returns:\n",
    "        int: среднее количество попыток\n",
    "    \"\"\"\n",
    "    count_ls = []\n",
    "    #np.random.seed(1)  # фиксируем сид для воспроизводимости\n",
    "    random_array = np.random.randint(1, 101, size=(1000))  # загадали список чисел\n",
    "\n",
    "    for number in random_array:\n",
    "        count_ls.append(random_predict(number))\n",
    "\n",
    "    score = int(np.mean(count_ls))\n",
    "    print(f\"Ваш алгоритм угадывает число в среднем за:{score} попыток\")\n",
    "    return score\n",
    "score_game(random_predict)"
   ]
  }
 ],
 "metadata": {
  "interpreter": {
   "hash": "d187b52971224ab756080b933f76469a9e6589df4c716d40e766fdb63694e9ae"
  },
  "kernelspec": {
   "display_name": "Python 3.9.7 64-bit ('base': conda)",
   "language": "python",
   "name": "python3"
  },
  "language_info": {
   "codemirror_mode": {
    "name": "ipython",
    "version": 3
   },
   "file_extension": ".py",
   "mimetype": "text/x-python",
   "name": "python",
   "nbconvert_exporter": "python",
   "pygments_lexer": "ipython3",
   "version": "3.9.7"
  },
  "orig_nbformat": 4
 },
 "nbformat": 4,
 "nbformat_minor": 2
}
